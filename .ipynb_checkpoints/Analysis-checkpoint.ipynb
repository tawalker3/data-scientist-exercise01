{
 "cells": [
  {
   "cell_type": "code",
   "execution_count": 59,
   "metadata": {
    "collapsed": false
   },
   "outputs": [],
   "source": [
    "import sqlite3\n",
    "import csv\n",
    "import matplotlib.pyplot as plt\n",
    "import pandas as pd\n",
    "import numpy as np\n",
    "import seaborn as sns\n",
    "\n",
    "from sklearn.ensemble import RandomForestClassifier, AdaBoostClassifier\n",
    "from sklearn.cross_validation import train_test_split\n",
    "from sklearn.tree import DecisionTreeClassifier\n",
    "from sklearn.metrics import confusion_matrix\n",
    "%matplotlib inline"
   ]
  },
  {
   "cell_type": "code",
   "execution_count": 2,
   "metadata": {
    "collapsed": true
   },
   "outputs": [],
   "source": [
    "conn = sqlite3.connect('exercise01.sqlite')\n",
    "c = conn.cursor()"
   ]
  },
  {
   "cell_type": "code",
   "execution_count": 3,
   "metadata": {
    "collapsed": false
   },
   "outputs": [],
   "source": [
    "# Number 2\n",
    "query = '''SELECT a.id, age, b.name, c.name, a.education_num, d.name, e.name, f.name, g.name, h.name, capital_gain, capital_loss, hours_week, i.name, over_50k FROM\n",
    "           records a\n",
    "           JOIN workclasses b\n",
    "           ON a.workclass_id=b.id\n",
    "           JOIN education_levels c\n",
    "           ON a.education_level_id=c.id\n",
    "           JOIN marital_statuses d\n",
    "           ON a.marital_status_id=d.id\n",
    "           JOIN occupations e\n",
    "           ON a.occupation_id=e.id\n",
    "           JOIN relationships f\n",
    "           ON a.relationship_id=f.id\n",
    "           JOIN races g\n",
    "           ON a.race_id=g.id\n",
    "           JOIN sexes h\n",
    "           ON a.sex_id=h.id\n",
    "           JOIN countries i\n",
    "           ON a.country_id=i.id\n",
    "        '''"
   ]
  },
  {
   "cell_type": "code",
   "execution_count": 4,
   "metadata": {
    "collapsed": false
   },
   "outputs": [],
   "source": [
    "# Number 3\n",
    "header_row = ['id', 'age', 'workclass', 'education_level', 'education_num', 'marital_status', 'occupation', 'relationship', 'race', 'sex', 'capital_gain', 'capital_loss', 'hours_week', 'country', 'over_50k']\n",
    "with open('records.csv', 'wb') as csvfile:\n",
    "    writer = csv.writer(csvfile)\n",
    "    writer.writerow(header_row) # write table header to file\n",
    "    for row in c.execute(query):\n",
    "        writer.writerow(row)"
   ]
  },
  {
   "cell_type": "code",
   "execution_count": 44,
   "metadata": {
    "collapsed": true
   },
   "outputs": [],
   "source": [
    "# Number 4\n",
    "df = pd.read_csv('records.csv')"
   ]
  },
  {
   "cell_type": "code",
   "execution_count": 6,
   "metadata": {
    "collapsed": false
   },
   "outputs": [
    {
     "name": "stdout",
     "output_type": "stream",
     "text": [
      "id               24433.163881\n",
      "age                 36.872184\n",
      "education_num        9.598493\n",
      "capital_gain       147.010308\n",
      "capital_loss        54.151931\n",
      "hours_week          38.840048\n",
      "over_50k             0.000000\n",
      "dtype: float64\n",
      "id               24384.418499\n",
      "age                 44.275178\n",
      "education_num       11.602807\n",
      "capital_gain      4042.239497\n",
      "capital_loss       193.528964\n",
      "hours_week          45.452896\n",
      "over_50k             1.000000\n",
      "dtype: float64\n"
     ]
    }
   ],
   "source": [
    "# Number 5\n",
    "print df[df['over_50k'] == 0].mean() # People making under 50k\n",
    "print df[df['over_50k'] == 1].mean() # People making under 50k"
   ]
  },
  {
   "cell_type": "markdown",
   "metadata": {},
   "source": [
    "According to the above numbers, the average person making over 50k is older, more educated, and works more hours per week than the average person that makes less than 50k. Also, the average person making over 50k has a significantly higher capital gain (and loss) than someone that does not make over 50k."
   ]
  },
  {
   "cell_type": "code",
   "execution_count": 8,
   "metadata": {
    "collapsed": false
   },
   "outputs": [
    {
     "name": "stdout",
     "output_type": "stream",
     "text": [
      "                 id           age  education_num  capital_gain  capital_loss  \\\n",
      "count  37155.000000  37155.000000   37155.000000  37155.000000  37155.000000   \n",
      "mean   24433.163881     36.872184       9.598493    147.010308     54.151931   \n",
      "std    14106.315882     14.104118       2.437673    936.753678    313.320005   \n",
      "min        1.000000     17.000000       1.000000      0.000000      0.000000   \n",
      "25%    12202.500000     25.000000       9.000000      0.000000      0.000000   \n",
      "50%    24433.000000     34.000000       9.000000      0.000000      0.000000   \n",
      "75%    36683.500000     46.000000      10.000000      0.000000      0.000000   \n",
      "max    48841.000000     90.000000      16.000000  41310.000000   4356.000000   \n",
      "\n",
      "         hours_week  over_50k  \n",
      "count  37155.000000   37155.0  \n",
      "mean      38.840048       0.0  \n",
      "std       12.356849       0.0  \n",
      "min        1.000000       0.0  \n",
      "25%       35.000000       0.0  \n",
      "50%       40.000000       0.0  \n",
      "75%       40.000000       0.0  \n",
      "max       99.000000       0.0  \n",
      "                 id           age  education_num  capital_gain  capital_loss  \\\n",
      "count  11687.000000  11687.000000   11687.000000  11687.000000  11687.000000   \n",
      "mean   24384.418499     44.275178      11.602807   4042.239497    193.528964   \n",
      "std    14078.830358     10.558983       2.382624  14756.771034    593.211612   \n",
      "min        8.000000     19.000000       1.000000      0.000000      0.000000   \n",
      "25%    12219.000000     36.000000      10.000000      0.000000      0.000000   \n",
      "50%    24385.000000     43.000000      12.000000      0.000000      0.000000   \n",
      "75%    36491.500000     51.000000      13.000000      0.000000      0.000000   \n",
      "max    48842.000000     90.000000      16.000000  99999.000000   3683.000000   \n",
      "\n",
      "         hours_week  over_50k  \n",
      "count  11687.000000   11687.0  \n",
      "mean      45.452896       1.0  \n",
      "std       11.091176       0.0  \n",
      "min        1.000000       1.0  \n",
      "25%       40.000000       1.0  \n",
      "50%       40.000000       1.0  \n",
      "75%       50.000000       1.0  \n",
      "max       99.000000       1.0  \n"
     ]
    }
   ],
   "source": [
    "# More detailed summary statistics\n",
    "print df[df['over_50k'] == 0].describe() # People making under 50k\n",
    "print df[df['over_50k'] == 1].describe() # People making under 50k"
   ]
  },
  {
   "cell_type": "code",
   "execution_count": 9,
   "metadata": {
    "collapsed": false
   },
   "outputs": [
    {
     "data": {
      "image/png": "[encoded data removed]",
      "text/plain": [
       "<matplotlib.figure.Figure at 0x104521f50>"
      ]
     },
     "metadata": {},
     "output_type": "display_data"
    }
   ],
   "source": [
    "# Number 8\n",
    "plt.figure(1)\n",
    "plt.subplot(211)\n",
    "df[df['over_50k'] == 0]['age'].hist()\n",
    "plt.title('People making less than 50k')\n",
    "plt.subplot(212)\n",
    "df[df['over_50k'] == 1]['age'].hist()\n",
    "plt.title('People making more than 50k')\n",
    "plt.tight_layout()"
   ]
  },
  {
   "cell_type": "code",
   "execution_count": 45,
   "metadata": {
    "collapsed": false
   },
   "outputs": [],
   "source": [
    "# Number 6\n",
    "y = df.pop('over_50k') # Remove \"over_50k\" from X and save as y\n",
    "X = df\n",
    "\n",
    "# Need to get dummy variables for string features\n",
    "dummy_cols = ['workclass', 'education_level', 'marital_status', 'occupation', 'relationship', 'race', 'sex', 'country']\n",
    "for col in dummy_cols:\n",
    "    # Add dummy variables to X\n",
    "    X = pd.merge(X, pd.get_dummies(X[col]), how='inner', left_index=True, right_index=True)\n",
    "\n",
    "# Drop columns that were dummified\n",
    "X = X.drop(['id', 'workclass', 'education_level', 'marital_status', 'occupation', 'relationship', 'race', 'sex', 'country'], axis=1)\n",
    "\n",
    "# 80/20 splits\n",
    "X_train_all, X_test, y_train_all, y_test = train_test_split(X, y)\n",
    "X_train, X_valid, y_train, y_valid = train_test_split(X_train_all, y_train_all)"
   ]
  },
  {
   "cell_type": "markdown",
   "metadata": {},
   "source": [
    "Have to get dummy variables for all categorical features, because sklearn requires continuous inputs. Simply converting the string values to a numeric code within the column would give the data an order that does not actually exist."
   ]
  },
  {
   "cell_type": "code",
   "execution_count": 47,
   "metadata": {
    "collapsed": false
   },
   "outputs": [
    {
     "data": {
      "text/plain": [
       "RandomForestClassifier(bootstrap=True, class_weight=None, criterion='gini',\n",
       "            max_depth=None, max_features='auto', max_leaf_nodes=None,\n",
       "            min_samples_leaf=1, min_samples_split=2,\n",
       "            min_weight_fraction_leaf=0.0, n_estimators=1000, n_jobs=-1,\n",
       "            oob_score=False, random_state=None, verbose=0,\n",
       "            warm_start=False)"
      ]
     },
     "execution_count": 47,
     "metadata": {},
     "output_type": "execute_result"
    }
   ],
   "source": [
    "# Number 7\n",
    "rf1 = RandomForestClassifier(n_estimators=1000, n_jobs=-1)\n",
    "rf1.fit(X_train, y_train)"
   ]
  },
  {
   "cell_type": "code",
   "execution_count": 48,
   "metadata": {
    "collapsed": false
   },
   "outputs": [
    {
     "data": {
      "text/plain": [
       "RandomForestClassifier(bootstrap=True, class_weight=None, criterion='gini',\n",
       "            max_depth=None, max_features='auto', max_leaf_nodes=None,\n",
       "            min_samples_leaf=1, min_samples_split=2,\n",
       "            min_weight_fraction_leaf=0.0, n_estimators=1500, n_jobs=-1,\n",
       "            oob_score=False, random_state=None, verbose=0,\n",
       "            warm_start=False)"
      ]
     },
     "execution_count": 48,
     "metadata": {},
     "output_type": "execute_result"
    }
   ],
   "source": [
    "rf2 = RandomForestClassifier(n_estimators=1500, n_jobs=-1)\n",
    "rf2.fit(X_train, y_train)"
   ]
  },
  {
   "cell_type": "code",
   "execution_count": 52,
   "metadata": {
    "collapsed": false
   },
   "outputs": [
    {
     "data": {
      "text/plain": [
       "AdaBoostClassifier(algorithm='SAMME',\n",
       "          base_estimator=DecisionTreeClassifier(class_weight=None, criterion='gini', max_depth=10,\n",
       "            max_features=None, max_leaf_nodes=None, min_samples_leaf=1,\n",
       "            min_samples_split=2, min_weight_fraction_leaf=0.0,\n",
       "            presort=False, random_state=None, splitter='best'),\n",
       "          learning_rate=1.0, n_estimators=1000, random_state=None)"
      ]
     },
     "execution_count": 52,
     "metadata": {},
     "output_type": "execute_result"
    }
   ],
   "source": [
    "ada1 = AdaBoostClassifier(DecisionTreeClassifier(max_depth=10),\n",
    "                         algorithm='SAMME', n_estimators=1000)\n",
    "ada1.fit(X_train, y_train)"
   ]
  },
  {
   "cell_type": "code",
   "execution_count": 53,
   "metadata": {
    "collapsed": false
   },
   "outputs": [
    {
     "data": {
      "text/plain": [
       "AdaBoostClassifier(algorithm='SAMME',\n",
       "          base_estimator=DecisionTreeClassifier(class_weight=None, criterion='gini', max_depth=10,\n",
       "            max_features=None, max_leaf_nodes=None, min_samples_leaf=1,\n",
       "            min_samples_split=2, min_weight_fraction_leaf=0.0,\n",
       "            presort=False, random_state=None, splitter='best'),\n",
       "          learning_rate=1.0, n_estimators=1500, random_state=None)"
      ]
     },
     "execution_count": 53,
     "metadata": {},
     "output_type": "execute_result"
    }
   ],
   "source": [
    "ada2 = AdaBoostClassifier(DecisionTreeClassifier(max_depth=10),\n",
    "                         algorithm='SAMME', n_estimators=1500)\n",
    "ada2.fit(X_train, y_train)"
   ]
  },
  {
   "cell_type": "code",
   "execution_count": 56,
   "metadata": {
    "collapsed": false
   },
   "outputs": [
    {
     "name": "stdout",
     "output_type": "stream",
     "text": [
      "Scores (Validation):\n",
      "rf1: 0.850076435903\n",
      "rf2: 0.85018563005\n",
      "ada1: 0.866455557982\n",
      "ada2: 0.863507316008\n"
     ]
    }
   ],
   "source": [
    "print \"Scores (Validation):\"\n",
    "print \"rf1:\", rf1.score(X_valid, y_valid)\n",
    "print \"rf2:\", rf2.score(X_valid, y_valid)\n",
    "print \"ada1:\", ada1.score(X_valid, y_valid)\n",
    "print \"ada2:\", ada2.score(X_valid, y_valid)"
   ]
  },
  {
   "cell_type": "code",
   "execution_count": 57,
   "metadata": {
    "collapsed": false
   },
   "outputs": [
    {
     "name": "stdout",
     "output_type": "stream",
     "text": [
      "Scores (Test):\n",
      "rf1: 0.847023175825\n",
      "rf2: 0.846859389075\n",
      "ada1: 0.856113340431\n",
      "ada2: 0.85185488494\n"
     ]
    }
   ],
   "source": [
    "print \"Scores (Test):\"\n",
    "print \"rf1:\", rf1.score(X_test, y_test)\n",
    "print \"rf2:\", rf2.score(X_test, y_test)\n",
    "print \"ada1:\", ada1.score(X_test, y_test)\n",
    "print \"ada2:\", ada2.score(X_test, y_test)"
   ]
  },
  {
   "cell_type": "code",
   "execution_count": 62,
   "metadata": {
    "collapsed": false
   },
   "outputs": [],
   "source": [
    "def plot_confusion_matrix(cm, title='Confusion matrix', cmap=plt.cm.Blues):\n",
    "    plt.imshow(cm, interpolation='nearest', cmap=cmap)\n",
    "    plt.title(title)\n",
    "    plt.colorbar()\n",
    "    tick_marks = np.arange(len(y_test.unique()))\n",
    "    plt.xticks(tick_marks, ['<50k', '>50k'])\n",
    "    plt.yticks(tick_marks, ['<50k', '>50k'])\n",
    "    plt.grid(b=False)\n",
    "    plt.tight_layout()\n",
    "    plt.ylabel('True label')\n",
    "    plt.xlabel('Predicted label')\n",
    "\n",
    "\n",
    "cm = confusion_matrix(y_test, ada1.predict(X_test))\n",
    "cm_normalized = cm.astype('float') / cm.sum(axis=1)[:, np.newaxis]"
   ]
  },
  {
   "cell_type": "code",
   "execution_count": 63,
   "metadata": {
    "collapsed": false
   },
   "outputs": [
    {
     "data": {
      "image/png": "[encoded data removed]",
      "text/plain": [
       "<matplotlib.figure.Figure at 0x1120ba750>"
      ]
     },
     "metadata": {},
     "output_type": "display_data"
    }
   ],
   "source": [
    "plot_confusion_matrix(cm_normalized, title='AdaBoost Confusion Matrix')"
   ]
  },
  {
   "cell_type": "markdown",
   "metadata": {},
   "source": [
    "For the sake of time, I did not do normal tuning of model parameters to get best performance. Instead, I tried a few representative models to get an idea of what models work well. As can be seen in the confusion matrix plot above, the ada1 model (the model with the highest accuracy) does a great job of correctly predicting who makes less than 50k, but has a bit more trouble with predicting who makes over 50k. I would try tuning the model parameters to improve the performance. Possibly try dimensionality reduction (SVD) since the dummy variables greatly increased dimensionality."
   ]
  },
  {
   "cell_type": "code",
   "execution_count": null,
   "metadata": {
    "collapsed": true
   },
   "outputs": [],
   "source": []
  }
 ],
 "metadata": {
  "kernelspec": {
   "display_name": "Python 2",
   "language": "python",
   "name": "python2"
  },
  "language_info": {
   "codemirror_mode": {
    "name": "ipython",
    "version": 2
   },
   "file_extension": ".py",
   "mimetype": "text/x-python",
   "name": "python",
   "nbconvert_exporter": "python",
   "pygments_lexer": "ipython2",
   "version": "2.7.9"
  }
 },
 "nbformat": 4,
 "nbformat_minor": 2
}
